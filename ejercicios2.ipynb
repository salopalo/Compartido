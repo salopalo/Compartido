{
 "cells": [
  {
   "cell_type": "markdown",
   "metadata": {},
   "source": [
    "# Ejercicios Python 2"
   ]
  },
  {
   "cell_type": "markdown",
   "metadata": {},
   "source": [
    "Resuelve cada ejercicio en su celda y añade las pruebas necesarias para comprobar que funciona correctamente. Indica en un comentario la dificultad encontrada (del 1 al 5)."
   ]
  },
  {
   "cell_type": "code",
   "execution_count": 27,
   "metadata": {},
   "outputs": [
    {
     "name": "stdout",
     "output_type": "stream",
     "text": [
      "[1, 5, 7, 6, 8, 9, 4, 2, 3]\n",
      "['Alex', 'Julia', 'Martín', 'Cristina', 'Manuel', 'Clara', 'Pedro']\n"
     ]
    }
   ],
   "source": [
    "# Función que recibe una lista y devuelve otra eliminando sus duplicados (función y pruebas)\n",
    "def elimina_duplicados(lista):\n",
    "    lista_unica = []\n",
    "    for x in lista:\n",
    "        if x not in lista_unica:\n",
    "            lista_unica.append (x)\n",
    "    return lista_unica\n",
    "\n",
    "Lista_entrada = [1,5,7,6,8,9,4,2,3,5,4,9,8,8,7,5,6,4,6,5,1]\n",
    "Lista_final = elimina_duplicados(Lista_entrada)\n",
    "print (Lista_final)\n",
    "\n",
    "Lista_entrada = [\"Alex\", \"Julia\", \"Martín\", \"Cristina\", \"Alex\", \"Manuel\", \"Clara\", \"Julia\", \"Pedro\"]\n",
    "Lista_final = elimina_duplicados (Lista_entrada)\n",
    "print (Lista_final)\n",
    "\n",
    "# Dificultad encontrada: 4"
   ]
  },
  {
   "cell_type": "code",
   "execution_count": 28,
   "metadata": {},
   "outputs": [
    {
     "name": "stdout",
     "output_type": "stream",
     "text": [
      "[[8, 14, -6], [None, 5, -3], [-11, 3, None]]\n"
     ]
    }
   ],
   "source": [
    "# Función que recibe una matriz (una lista de listas) y devuelve otra eliminando sus duplicados\n",
    "# La funcion devuelve el resultado de revisar una matriz y comprobar si tiene duplicados, al tratarse de una matriz he pensado\n",
    "# que sería interesante mantener la estructura de la matriz y en las posiciones donde haya duplicados devuelva un None\n",
    "    \n",
    "def elimina_duplicados(matriz):\n",
    "    fila1_fin = []\n",
    "    fila2_fin = []\n",
    "    fila3_fin = []\n",
    "    matriz_final = [fila1_fin,fila2_fin,fila3_fin]\n",
    "    \n",
    "    # fila1 = (matriz[0])\n",
    "    for x in (matriz[0]):\n",
    "        if x not in (fila1_fin):\n",
    "            (fila1_fin).append (x)\n",
    "        else: (fila1_fin).append (None)\n",
    "    \n",
    "    # fila2 = (matriz[1])\n",
    "    for x in (matriz[1]):\n",
    "        if x not in fila1_fin and x not in fila2_fin:\n",
    "            (fila2_fin).append (x)\n",
    "        else: (fila2_fin).append (None)\n",
    "          \n",
    "    # fila3 = (matriz[2])\n",
    "    for x in (matriz[2]):\n",
    "        if x not in fila1_fin and x not in fila2_fin and x not in fila3_fin:\n",
    "            (fila3_fin).append (x)\n",
    "        else: (fila3_fin).append (None)\n",
    "   \n",
    "    return matriz_final\n",
    "\n",
    "\n",
    "matriz = [[8, 14, -6], \n",
    "          [8, 5, -3], \n",
    "          [-11,3,8]]\n",
    "\n",
    "print (elimina_duplicados (matriz))\n",
    "\n",
    "# Dificultad encontrada: 5"
   ]
  },
  {
   "cell_type": "code",
   "execution_count": 29,
   "metadata": {},
   "outputs": [
    {
     "name": "stdout",
     "output_type": "stream",
     "text": [
      "{1: 3, 3: 2, 2: 2, 5: 1, 4: 1}\n"
     ]
    }
   ],
   "source": [
    "# Función que recibe una lista y devuelve un diccionario con el número de veces que aparece cada elemento \n",
    "# (las claves del diccionario deben ser los elementos de la lista y los valores deben ser el número de veces que aparece dicho elemento en la lista)\n",
    "\n",
    "def list_dic(lista):\n",
    "    dicc = {}\n",
    "    for x in lista:\n",
    "        dicc[x] = lista.count(x)\n",
    "    return dicc\n",
    "        \n",
    "            \n",
    "lista =[1,3,2,1,2,5,4,1,3]\n",
    "print (list_dic(lista))\n",
    "\n",
    "# Dificultad encontrada: 4"
   ]
  },
  {
   "cell_type": "code",
   "execution_count": 30,
   "metadata": {},
   "outputs": [
    {
     "name": "stdout",
     "output_type": "stream",
     "text": [
      "la matriz es de  3 x  3\n",
      "[[1, 0, 0], [0, 1, 0], [0, 0, 1]]\n",
      "la matriz es de  4 x  4\n",
      "[[1, 0, 0, 0], [0, 1, 0, 0], [0, 0, 1, 0], [0, 0, 0, 1]]\n",
      "la matriz es de  3 x  3\n",
      "[[1, 0, 0], [0, 1, 0], [0, 0, 1]]\n",
      "la matriz es de  3 x  3\n"
     ]
    }
   ],
   "source": [
    "# Función que recibe dos matrices cuadradas (NxN) y devuelve una tercera matriz que contiene el valor 1 en las posiciones en que el valor de A y B coinciden \n",
    "# y 0 en caso contrario. Comprueba dimensiones de la matriz y ajusta el tamaño de la matriz resultante.\n",
    "\n",
    "def valores_iguales_matriz(matriz1, matriz2):\n",
    "    # medir la matriz \n",
    "    largo = len (matriz1)\n",
    "    ancho = len (matriz1[0])\n",
    "    inc = 0\n",
    "    matriz_final = [[None] * ancho for i in range(largo)]\n",
    "    \n",
    "    if largo != ancho:\n",
    "        print (\"La matriz debe ser de NxN elementos\")\n",
    "    else:\n",
    "        print (\"la matriz es de \", largo , \"x \", ancho)\n",
    "        \n",
    "        while inc <largo:\n",
    "            for x in range(len(matriz1[inc])):\n",
    "                if matriz1[inc] [x] == matriz2[inc] [x]:\n",
    "                    (matriz_final[inc][x]) = 1\n",
    "                else:\n",
    "                    (matriz_final[inc][x]) = 0\n",
    "            inc +=1\n",
    "        \n",
    "    return matriz_final\n",
    "mat1 = [[1, 2, 3], [4, 5, 6], [7, 8, 9]] # Matriz 3x3\n",
    "mat2 = [[1, 5, 6], [7, 5, 9], [1, 2, 9]] # Matriz 3x3\n",
    "print (valores_iguales_matriz(mat1, mat2)) \n",
    "\n",
    "mat3 = [[1, 2, 3, 4], [4, 5, 6, 7], [7, 8, 9, 10], [10, 11, 12, 13]] # Matriz 4x4\n",
    "mat4 = [[1, 5, 6, 7], [7, 5, 9, 10], [1, 2, 9, 11], [7, 8, 9, 13]] # Matriz 4x4\n",
    "print (valores_iguales_matriz(mat3, mat4))\n",
    " \n",
    "\n",
    "# Tests\n",
    "mat1 = [[1, 2, 3], [4, 5, 6], [7, 8, 9]] # Matriz 3x3\n",
    "mat2 = [[1, 5, 6], [7, 5, 9], [1, 2, 9]] # Matriz 3x3\n",
    "print(valores_iguales_matriz(mat1, mat2)) # Debería mostrar una matriz identidad\n",
    "assert valores_iguales_matriz(mat1, mat2) == [[1, 0, 0], [0, 1, 0], [0, 0, 1]]\n",
    "\n",
    "# Dificultad encontrada: 5"
   ]
  },
  {
   "cell_type": "code",
   "execution_count": 32,
   "metadata": {},
   "outputs": [
    {
     "name": "stdout",
     "output_type": "stream",
     "text": [
      "[(1, 2)]\n",
      "[(2, 0), (0, 2)]\n"
     ]
    }
   ],
   "source": [
    "# Función que recibe una matriz y busca sus puntos de silla (mínimo de su fila y máximo de su columna o viceversa). \n",
    "# Debe devolver una lista de tuplas con las coordenadas de los puntos de silla.\n",
    "\n",
    "\n",
    "def puntos_silla(matriz):\n",
    "    lista_puntos = []\n",
    "    for y in range(len(matriz)):\n",
    "        for x in range(len(matriz[y])):\n",
    "            punto = matriz[y][x]\n",
    "            columna = []\n",
    "            for fila in matriz:\n",
    "                columna.append(fila[x])\n",
    "            fila = matriz[y]\n",
    "\n",
    "            if punto == min(fila) == max(columna):\n",
    "                lista_puntos.append((x,y))\n",
    "            elif punto == max(fila) == min(columna):\n",
    "                lista_puntos.append((x,y))\n",
    "           \n",
    "    return lista_puntos\n",
    "    \n",
    "mat1 = [[10,20,5],[40,10,30],[60,30,50]]\n",
    "print (puntos_silla(mat1))\n",
    "mat2 = [[1,2,3],[4,5,6],[7,8,9]]\n",
    "print (puntos_silla(mat2))\n",
    "\n",
    "# Dificultad encontrada: 5\n"
   ]
  },
  {
   "cell_type": "markdown",
   "metadata": {},
   "source": [
    "## "
   ]
  },
  {
   "cell_type": "markdown",
   "metadata": {},
   "source": [
    "## "
   ]
  }
 ],
 "metadata": {
  "kernelspec": {
   "display_name": "base",
   "language": "python",
   "name": "python3"
  },
  "language_info": {
   "codemirror_mode": {
    "name": "ipython",
    "version": 3
   },
   "file_extension": ".py",
   "mimetype": "text/x-python",
   "name": "python",
   "nbconvert_exporter": "python",
   "pygments_lexer": "ipython3",
   "version": "3.11.5"
  }
 },
 "nbformat": 4,
 "nbformat_minor": 2
}
