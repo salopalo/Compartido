{
 "cells": [
  {
   "cell_type": "markdown",
   "metadata": {},
   "source": [
    "# Ejercicios Python 2"
   ]
  },
  {
   "cell_type": "markdown",
   "metadata": {},
   "source": [
    "Resuelve cada ejercicio en su celda y añade las pruebas necesarias para comprobar que funciona correctamente. Indica en un comentario la dificultad encontrada (del 1 al 5)."
   ]
  },
  {
   "cell_type": "code",
   "execution_count": 1,
   "metadata": {},
   "outputs": [
    {
     "name": "stdout",
     "output_type": "stream",
     "text": [
      "[23 20 10 11 10 21 13  4 21 24 15 21]\n",
      "[ 4 10 11 13 15 20 21 23 24]\n",
      "['Alex' 'Clara' 'Cristina' 'Julia' 'Manuel' 'Martín' 'Pedro']\n"
     ]
    }
   ],
   "source": [
    "# Función que recibe un array y devuelve otro eliminando sus duplicados (función y pruebas)\n",
    "import numpy as np\n",
    "def elimina_duplicados(array):\n",
    "    array_unico = np.unique(array)\n",
    " \n",
    "    return array_unico\n",
    "\n",
    "darray = np.random.randint(1,25, (12))\n",
    "print (darray)\n",
    "print (elimina_duplicados(darray))\n",
    "\n",
    "Lista_nombres = [\"Alex\", \"Julia\", \"Martín\", \"Cristina\", \"Alex\", \"Manuel\", \"Clara\", \"Julia\", \"Pedro\"]\n",
    "narray = np.array(Lista_nombres)\n",
    "# Lista_final = elimina_duplicados (Lista_entrada)\n",
    "print (elimina_duplicados(narray))\n",
    "\n",
    "# Dificultad encontrada: 4\n"
   ]
  },
  {
   "cell_type": "code",
   "execution_count": 5,
   "metadata": {},
   "outputs": [
    {
     "name": "stdout",
     "output_type": "stream",
     "text": [
      "[[  8.  14.  -6.]\n",
      " [ nan   5.  -3.]\n",
      " [-11.   3.  nan]]\n",
      "[[ 6.  3. 13. 12. 15.]\n",
      " [ 1.  5. nan 17. 11.]\n",
      " [nan nan  8.  0. 16.]\n",
      " [ 9. nan nan 10. nan]\n",
      " [19. nan nan 14.  7.]]\n"
     ]
    }
   ],
   "source": [
    "# ejercicios2.ipynb ejercicio 2 numpy\n",
    "# Función que recibe una matriz y devuelve otra eliminando sus duplicados\n",
    "import numpy as np\n",
    "\n",
    "def elimina_duplicados(array):\n",
    "    lista_paso=[]\n",
    "    f_array = np.full((array.shape), np.nan)\n",
    "    for x in range(array.shape[0]):\n",
    "        for y in range(array.shape[1]):\n",
    "            if array[x,y] not in lista_paso:\n",
    "                f_array[x,y] = array[x,y]\n",
    "                lista_paso.append(array[x,y])\n",
    "    \n",
    "    return f_array\n",
    "                \n",
    "   \n",
    "\n",
    "\n",
    "matriz = [[8, 14, -6], \n",
    "          [8, 5, -3], \n",
    "          [-11,3,8]]\n",
    "narray = np.array (matriz)\n",
    "print (elimina_duplicados (narray))\n",
    "\n",
    "al_array = np.random.randint (20,size=(5,5))\n",
    "print (elimina_duplicados (al_array))\n",
    "\n",
    "# Dificultad encontrada: 4"
   ]
  },
  {
   "cell_type": "code",
   "execution_count": 8,
   "metadata": {},
   "outputs": [
    {
     "name": "stdout",
     "output_type": "stream",
     "text": [
      "[ 4 13  5 13  2  6 19  6 10  9 14 20  8  5  4  3  6  7  9  3 14  6  9 17\n",
      " 20]\n",
      "{4: 2, 13: 2, 5: 2, 2: 1, 6: 4, 19: 1, 10: 1, 9: 3, 14: 2, 20: 2, 8: 1, 3: 2, 7: 1, 17: 1}\n"
     ]
    }
   ],
   "source": [
    "# ejercicios2.ipynb ejercicio 3 numpy\n",
    "# Función que recibe un array y devuelve un diccionario con el número de veces que aparece cada elemento \n",
    "# (las claves del diccionario deben ser los elementos de la lista y los valores deben ser \n",
    "# el número de veces que aparece dicho elemento en la lista)\n",
    "\n",
    "import numpy as np\n",
    "def list_dic(array):\n",
    "    gen = dict((x, np.count_nonzero(array == x)) for x in array)\n",
    "    # gen = {} comentada la funcion en formato no comprehensivo\n",
    "    # for x in array:\n",
    "    #     gen[x] = np.count_nonzero(array == x)\n",
    "    return gen\n",
    "\n",
    "al_array = np.random.randint(21, size=25)\n",
    "print (al_array)\n",
    "print (list_dic(al_array))\n",
    "\n",
    "# Dificultad encontrada: 4"
   ]
  },
  {
   "cell_type": "code",
   "execution_count": 9,
   "metadata": {},
   "outputs": [
    {
     "name": "stdout",
     "output_type": "stream",
     "text": [
      "Matriz 1\n",
      " [[1 2 3]\n",
      " [4 5 6]\n",
      " [7 8 9]] \n",
      "Matriz 2\n",
      " [[1 5 6]\n",
      " [7 5 9]\n",
      " [1 2 9]]  \n",
      "Matriz comparacion \n",
      " [[1 0 0]\n",
      " [0 1 0]\n",
      " [0 0 1]]\n",
      "Matriz 3\n",
      " [[0 1 0 0]\n",
      " [1 4 3 1]\n",
      " [0 0 4 4]\n",
      " [0 1 1 0]] \n",
      "Matriz 4\n",
      " [[2 1 2 4]\n",
      " [1 3 3 2]\n",
      " [2 4 1 3]\n",
      " [3 2 1 1]]  \n",
      "Matriz comparacion \n",
      " [[0 1 0 0]\n",
      " [1 0 1 0]\n",
      " [0 0 0 0]\n",
      " [0 0 1 0]]\n"
     ]
    }
   ],
   "source": [
    "# ejercicios2.ipynb ejercicio 4\n",
    "# Función que recibe dos matrices cuadradas (NxN) y devuelve una tercera matriz que contiene el valor 1 en las posiciones en que el valor de A y B coinciden \n",
    "# y 0 en caso contrario. Comprueba dimensiones de la matriz y ajusta el tamaño de la matriz resultante.\n",
    "\n",
    "import numpy as np\n",
    "\n",
    "def valores_iguales_matriz(matriz1, matriz2):\n",
    "    if matriz1.shape != matriz2.shape or matriz1.shape[0] != matriz1.shape[1]:\n",
    "        print (\"El par de matrices no es válido, introduce dos matrices cuadradas iguales por favor. \")\n",
    "    mat_final = matriz1 == matriz2\n",
    "    mat_final = 1*mat_final\n",
    "    \n",
    "    return mat_final\n",
    "    \n",
    "matr1 = [[1, 2, 3], [4, 5, 6], [7, 8, 9]] # Matriz 3x3\n",
    "matr2 = [[1, 5, 6], [7, 5, 9], [1, 2, 9]] # Matriz 3x3\n",
    "mat1 = np.array (matr1)\n",
    "mat2 = np.array (matr2)\n",
    "print (\"Matriz 1\\n\", mat1 , \"\\nMatriz 2\\n\", mat2 , \" \\nMatriz comparacion \\n\" , valores_iguales_matriz(mat1, mat2))\n",
    "\n",
    "mat3 = np.random.randint(5,size=(4,4))\n",
    "mat4 = np.random.randint(5,size=(4,4))\n",
    "print (\"Matriz 3\\n\", mat3 , \"\\nMatriz 4\\n\", mat4 , \" \\nMatriz comparacion \\n\" , valores_iguales_matriz(mat3, mat4))\n",
    " \n",
    "\n",
    "# Dificultad encontrada: 4\n"
   ]
  },
  {
   "cell_type": "code",
   "execution_count": 3,
   "metadata": {},
   "outputs": [
    {
     "name": "stdout",
     "output_type": "stream",
     "text": [
      "[[10 20  5]\n",
      " [40 10 30]\n",
      " [60 30 50]] \n",
      " Puntos de silla [(2, 1)]\n",
      "[[1 2 3]\n",
      " [4 5 6]\n",
      " [7 8 9]] \n",
      " Puntos de silla [(0, 2), (2, 0)]\n",
      "[[ 7  9  1 11]\n",
      " [ 8  1 13  4]\n",
      " [14 14 13 12]\n",
      " [ 3  3  5 11]] \n",
      " Puntos de silla [(2, 3)]\n"
     ]
    }
   ],
   "source": [
    "# ejercicios2.ipynb ejercicio 5 numpy\n",
    "\n",
    "# Función que recibe una matriz y busca sus puntos de silla (mínimo de su fila y máximo de su columna o viceversa). \n",
    "# Debe devolver una lista de tuplas con las coordenadas de los puntos de silla.\n",
    "\n",
    "import numpy as np\n",
    "\n",
    "def puntos_silla(matriz):\n",
    "    lista_puntos = []\n",
    "    for x in range(matriz.shape[0]):\n",
    "        for y in range(matriz.shape[1]):\n",
    "            if matriz [x,y] == np.min(matriz [:,y]) == np.max(matriz [x]) or matriz [x,y] == np.max(matriz [:,y]) == np.min(matriz [x]):\n",
    "                lista_puntos.append((x,y))\n",
    "          \n",
    "    return lista_puntos\n",
    "    \n",
    "matr1 = [[10,20,5],[40,10,30],[60,30,50]]\n",
    "mat1 = np.array(matr1)\n",
    "print (mat1, \"\\n\" , \"Puntos de silla\" , puntos_silla(mat1))\n",
    "matr2 = [[1,2,3],[4,5,6],[7,8,9]]\n",
    "mat2 = np.array(matr2)\n",
    "print ( mat2, \"\\n\", \"Puntos de silla\" , puntos_silla(mat2))\n",
    "mat3 = np.random.randint(16, size=(4,4))\n",
    "print (mat3 , \"\\n\", \"Puntos de silla\" , puntos_silla(mat3))\n",
    "\n",
    "# Dificultad encontrada: 5\n"
   ]
  },
  {
   "cell_type": "markdown",
   "metadata": {},
   "source": [
    "## "
   ]
  },
  {
   "cell_type": "markdown",
   "metadata": {},
   "source": [
    "## "
   ]
  }
 ],
 "metadata": {
  "kernelspec": {
   "display_name": "base",
   "language": "python",
   "name": "python3"
  },
  "language_info": {
   "codemirror_mode": {
    "name": "ipython",
    "version": 3
   },
   "file_extension": ".py",
   "mimetype": "text/x-python",
   "name": "python",
   "nbconvert_exporter": "python",
   "pygments_lexer": "ipython3",
   "version": "3.11.5"
  }
 },
 "nbformat": 4,
 "nbformat_minor": 2
}
