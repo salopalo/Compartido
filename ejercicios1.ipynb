{
 "cells": [
  {
   "cell_type": "code",
   "execution_count": null,
   "metadata": {},
   "outputs": [],
   "source": [
    "# Ejercicios Python"
   ]
  },
  {
   "cell_type": "markdown",
   "metadata": {},
   "source": [
    "## 1. Índice de masa corporal\n",
    "\n",
    "Escribir un programa que pida al usuario su peso (en kg) y estatura (en metros), calcule su índice de masa corporal y lo muestre con dos decimales. El índice de masa corporal se calcula como el peso dividido por el cuadrado de la estatura.\n",
    "\n",
    "Ejemplo de ejecución\n",
    "\n",
    "```none:\n",
    "¿Cuál es tu peso en kg?: 72\n",
    "¿Cuál es tu estatura en metros?: 1.76\n",
    "Tu índice de masa corporal es 23\n",
    "----------------------------------------\n",
    "¿Cuál es tu peso en kg?: 85\n",
    "¿Cuál es tu estatura en metros?: 1.68\n",
    "Tu índice de masa corporal es 30\n",
    "```"
   ]
  },
  {
   "cell_type": "code",
   "execution_count": 3,
   "metadata": {},
   "outputs": [
    {
     "name": "stdout",
     "output_type": "stream",
     "text": [
      "Tu indice de masa corporal es  23.24\n"
     ]
    }
   ],
   "source": [
    "# Escribe aquí tu solución\n",
    "\n",
    "peso = int(input(\"¿Cuál es tu peso en kg?: \"))\n",
    "estatura = float(input(\"¿Cuál es tu estatura en metros?: \"))\n",
    "imc = peso/(estatura*estatura)\n",
    "print(\"Tu indice de masa corporal es \", round(imc,2))\n",
    "\n",
    "\n",
    "# Dificultad encontrada en el ejercicio (del 1 al 5). 2\n"
   ]
  },
  {
   "cell_type": "markdown",
   "metadata": {},
   "source": [
    "## 2. Desplazar elementos de una lista\n",
    "\n",
    "Implementar un programa en Python que:\n",
    "- Lea por teclado un número entero (n) mayor que 0.\n",
    "- Lea por teclado n números separados por espacios y los almacene en una lista.\n",
    "- Lea por teclado un número entero (d) mayor que 0.\n",
    "- Genere una nueva lista donde desplace a la derecha d posiciones (de forma circular) todos los elementos de la lista.\n",
    "\n",
    "\n",
    "Ejemplo de ejecución:\n",
    "```none\n",
    "=============================================\n",
    "Dime el numero de elementos: 8\n",
    "Dime los elementos: 4 7 1 2 5 9 11 31\n",
    "Dime el desplazamiento: 4\n",
    "La lista resultante es: 5 9 11 31 4 7 1 2\n",
    "=============================================\n",
    "```"
   ]
  },
  {
   "cell_type": "code",
   "execution_count": 8,
   "metadata": {},
   "outputs": [
    {
     "name": "stdout",
     "output_type": "stream",
     "text": [
      "Lo siento, el número debe ser mayor de 0\n",
      "Lo siento, el número debe ser mayor de 0\n",
      "La lista resultante es: 6 7 8 1 2 3 4 5\n"
     ]
    }
   ],
   "source": [
    "def desplazar_lista():\n",
    "    n = int(input(\"Dime el numero de elementos: \"))\n",
    "    while n<=0:\n",
    "        print(\"Lo siento, el número debe ser mayor de 0\")\n",
    "        n = int(input(\"Dime el numero de elementos: \"))\n",
    "    \n",
    "    elementos = list(map(int, input(\"Dime los elementos separados por espacios por favor: \").split()))\n",
    "    d = int(input(\"Dime el desplazamiento: \"))\n",
    "    while d<=0:\n",
    "         print(\"Lo siento, el número debe ser mayor de 0\")\n",
    "         d = int(input(\"Dime el desplazamiento: \"))\n",
    "    desplazamiento = d % n  # En caso de que el desplazamiento sea mayor que la cantidad de elementos\n",
    "\n",
    "    nueva_lista = elementos[-desplazamiento:] + elementos[:-desplazamiento]\n",
    "\n",
    "    print(\"La lista resultante es:\", *nueva_lista)\n",
    "\n",
    "desplazar_lista()\n",
    "\n",
    "# Dificultad encontrada en el ejercicio (del 1 al 5). 5\n"
   ]
  },
  {
   "cell_type": "markdown",
   "metadata": {},
   "source": [
    "### 2. Explicación del código:\n",
    "\n",
    "- Se define la función desplazar_lista.\n",
    "- Se solicita al usuario que ingrese el número de elementos en la lista.\n",
    "- Luego, se le pide al usuario que ingrese los elementos de la lista, separados por espacio, los cuales se convierten a una lista de enteros.\n",
    "- Se solicita al usuario que ingrese el valor de desplazamiento que desea aplicar a la lista.\n",
    "- Se calcula el desplazamiento real como el módulo del desplazamiento dado y la cantidad de elementos en la lista, esto es para evitar desplazamientos excesivos.\n",
    "- Se crea una nueva lista que es el resultado de desplazar la lista original utilizando técnicas de segmentación (slicing) en Python.\n",
    "- Finalmente, se imprime la lista resultante después del desplazamiento.\n",
    "- Al ejecutar la función desplazar_lista, se pedirá al usuario que ingrese el número de elementos, los propios elementos, y el desplazamiento, y luego se mostrará la lista resultante después del     desplazamiento."
   ]
  },
  {
   "cell_type": "markdown",
   "metadata": {},
   "source": [
    "## 3. Múltiplos en una lista\n",
    "\n",
    "Función que busque en una lista los múltiplos de un número y los devuelva en una nueva lista. Tanto el número (el divisor) como la lista serán argumentos de la función. Solo se pide la función. No es necesario implementar un interfaz de usuario, pero se deberían ejecutar casos de prueba.\n",
    "\n",
    "Ejemplo:\n",
    "    Para la lista: **1 2 3 4 5 6 7 8 9 10**\n",
    "    los múltiplos de dos son **2, 4, 6, 8, 10**\n",
    "    y los de tres son **3, 6, 9**"
   ]
  },
  {
   "cell_type": "code",
   "execution_count": 3,
   "metadata": {},
   "outputs": [
    {
     "name": "stdout",
     "output_type": "stream",
     "text": [
      "[3, 6, 9]\n",
      "None\n",
      "[5, 10]\n",
      "None\n"
     ]
    }
   ],
   "source": [
    "nueva_lista=[]\n",
    "def multiplos(divisor, lista):\n",
    "    nueva_lista.clear()\n",
    "    for i in lista:\n",
    "        if i%divisor==0:\n",
    "        \tnueva_lista.append(i)\n",
    "    print(nueva_lista)\n",
    "\n",
    "# Para probar\n",
    "print(multiplos(3, [1,2,3,4,5,6,7,8,9,10])) # Debe mostrar [3, 6, 9]\n",
    "print(multiplos(5, [1,2,3,4,5,6,7,8,9,10])) # Debe mostrar [5, 10]\n",
    "\n",
    "\n",
    "# Dificultad encontrada en el ejercicio (del 1 al 5). 3"
   ]
  },
  {
   "cell_type": "markdown",
   "metadata": {},
   "source": [
    "## 4. Función que reciba un número y dibuje un triángulo de números siguiendo el siguiente patrón. Solo la función y casos de prueba.\n",
    "\n",
    "Para 4:\n",
    "```none\n",
    "1\n",
    "2 2\n",
    "3 3 3\n",
    "4 4 4 4\n",
    "3 3 3\n",
    "2 2\n",
    "1\n",
    "```\n",
    "\n",
    "Para 3:\n",
    "```none\n",
    "1\n",
    "2 2\n",
    "3 3 3\n",
    "2 2\n",
    "1\n",
    "```"
   ]
  },
  {
   "cell_type": "code",
   "execution_count": 4,
   "metadata": {},
   "outputs": [
    {
     "name": "stdout",
     "output_type": "stream",
     "text": [
      "1 \n",
      "2 2 \n",
      "3 3 3 \n",
      "4 4 4 4 \n",
      "5 5 5 5 5 \n",
      "6 6 6 6 6 6 \n",
      "7 7 7 7 7 7 7 \n",
      "8 8 8 8 8 8 8 8 \n",
      "9 9 9 9 9 9 9 9 9 \n",
      "10 10 10 10 10 10 10 10 10 10 \n",
      "9 9 9 9 9 9 9 9 9 \n",
      "8 8 8 8 8 8 8 8 \n",
      "7 7 7 7 7 7 7 \n",
      "6 6 6 6 6 6 \n",
      "5 5 5 5 5 \n",
      "4 4 4 4 \n",
      "3 3 3 \n",
      "2 2 \n",
      "1 \n"
     ]
    }
   ],
   "source": [
    "\n",
    "def triangulo(numero):\n",
    "\tif numero <= 0:\n",
    "\t\tprint(\"El número debe ser mayor que 0.\")\n",
    "\tfor i in range(1, numero+1):\n",
    "\t\tprint((str(i)+\" \")*i)\n",
    "\tfor i in range(numero-1, 0, -1):\n",
    "\t\tprint((str(i)+\" \")*i)\n",
    "\n",
    "\n",
    "triangulo(10)\n",
    "\n",
    "# Dificultad encontrada en el ejercicio (del 1 al 5). 3"
   ]
  }
 ],
 "metadata": {
  "kernelspec": {
   "display_name": "base",
   "language": "python",
   "name": "python3"
  },
  "language_info": {
   "codemirror_mode": {
    "name": "ipython",
    "version": 3
   },
   "file_extension": ".py",
   "mimetype": "text/x-python",
   "name": "python",
   "nbconvert_exporter": "python",
   "pygments_lexer": "ipython3",
   "version": "3.11.5"
  }
 },
 "nbformat": 4,
 "nbformat_minor": 2
}
